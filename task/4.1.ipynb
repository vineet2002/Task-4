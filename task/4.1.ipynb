{
 "cells": [
  {
   "cell_type": "code",
   "execution_count": 1,
   "id": "f29b750d",
   "metadata": {},
   "outputs": [],
   "source": [
    "import numpy\n",
    "import cv2"
   ]
  },
  {
   "cell_type": "code",
   "execution_count": 2,
   "id": "5d288d8e",
   "metadata": {},
   "outputs": [],
   "source": [
    "photo = numpy.zeros((1000,1000,3))\n"
   ]
  },
  {
   "cell_type": "code",
   "execution_count": 3,
   "id": "0cf26228",
   "metadata": {},
   "outputs": [],
   "source": [
    "def show(pic) :\n",
    "    cv2.imshow('diagram',pic)\n",
    "    cv2.waitKey()\n",
    "    cv2.destroyAllWindows()"
   ]
  },
  {
   "cell_type": "code",
   "execution_count": 4,
   "id": "fce65d16",
   "metadata": {},
   "outputs": [],
   "source": [
    "for i in range(100,600):\n",
    "    for j in range(100,900) :\n",
    "        photo[i][j] = [0,0,255]"
   ]
  },
  {
   "cell_type": "code",
   "execution_count": 5,
   "id": "4fb8f6e4",
   "metadata": {},
   "outputs": [],
   "source": [
    "for i in range(150,550):\n",
    "    for j in range(200,800) :\n",
    "        photo[i][j] = [0,255,0]"
   ]
  },
  {
   "cell_type": "code",
   "execution_count": 6,
   "id": "40196287",
   "metadata": {},
   "outputs": [],
   "source": [
    "for i in range(250,450):\n",
    "    for j in range(300,700) :\n",
    "        photo[i][j] = [255,0,0]"
   ]
  },
  {
   "cell_type": "code",
   "execution_count": 7,
   "id": "859614ae",
   "metadata": {},
   "outputs": [],
   "source": [
    "for i in range(300,400):\n",
    "    for j in range(350,650) :\n",
    "        photo[i][j] = [67,89,67]"
   ]
  },
  {
   "cell_type": "code",
   "execution_count": 8,
   "id": "df4bd1d2",
   "metadata": {},
   "outputs": [],
   "source": [
    "show(photo)"
   ]
  },
  {
   "cell_type": "code",
   "execution_count": null,
   "id": "743602e3",
   "metadata": {},
   "outputs": [],
   "source": []
  }
 ],
 "metadata": {
  "kernelspec": {
   "display_name": "Python 3",
   "language": "python",
   "name": "python3"
  },
  "language_info": {
   "codemirror_mode": {
    "name": "ipython",
    "version": 3
   },
   "file_extension": ".py",
   "mimetype": "text/x-python",
   "name": "python",
   "nbconvert_exporter": "python",
   "pygments_lexer": "ipython3",
   "version": "3.8.8"
  }
 },
 "nbformat": 4,
 "nbformat_minor": 5
}
