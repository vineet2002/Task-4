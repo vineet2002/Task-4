{
 "cells": [
  {
   "cell_type": "code",
   "execution_count": 1,
   "id": "cb762ca5",
   "metadata": {},
   "outputs": [],
   "source": [
    "import cv2 \n",
    "import numpy\n",
    "o1 = cv2.imread('a.jpg')\n",
    "o2 = cv2.imread('b.jpg')\n",
    "d1=o1\n",
    "d2=o2\n",
    "def show(x,y) :\n",
    "    cv2.imshow(x,y)\n",
    "    cv2.waitKey()\n",
    "    cv2.destroyAllWindows()\n",
    "show('Originals',o1)\n",
    "show('Originals',o2)\n",
    "p1 = d1[100:150,100:150].copy()\n",
    "p2 = d2[100:150,100:150].copy()\n",
    "show('This is first one duplicate part',p1)\n",
    "show('This is second one duplicate part',p2)\n",
    "o1[100:150,100:150] = p2\n",
    "o2[100:150,100:150] = p1\n",
    "n1 = o1\n",
    "n2 = o2\n",
    "show('This is first one changed part',n1)\n",
    "show('This is second one changed part',n2)\n"
   ]
  },
  {
   "cell_type": "code",
   "execution_count": null,
   "id": "b5b26433",
   "metadata": {},
   "outputs": [],
   "source": []
  }
 ],
 "metadata": {
  "kernelspec": {
   "display_name": "Python 3",
   "language": "python",
   "name": "python3"
  },
  "language_info": {
   "codemirror_mode": {
    "name": "ipython",
    "version": 3
   },
   "file_extension": ".py",
   "mimetype": "text/x-python",
   "name": "python",
   "nbconvert_exporter": "python",
   "pygments_lexer": "ipython3",
   "version": "3.8.8"
  }
 },
 "nbformat": 4,
 "nbformat_minor": 5
}
